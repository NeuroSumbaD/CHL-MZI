{
 "cells": [
  {
   "cell_type": "code",
   "execution_count": 3,
   "metadata": {},
   "outputs": [
    {
     "name": "stdout",
     "output_type": "stream",
     "text": [
      "-0.9999999999999998\n"
     ]
    }
   ],
   "source": [
    "import numpy as np\n",
    "deltaFlat = np.array([-1,-1])\n",
    "assumed_delta= np.array([1,1])\n",
    "correlation = np.dot(deltaFlat.flatten(),assumed_delta.flatten())/(np.linalg.norm(deltaFlat)*np.linalg.norm(assumed_delta))\n",
    "print(correlation)"
   ]
  },
  {
   "cell_type": "code",
   "execution_count": 33,
   "metadata": {},
   "outputs": [
    {
     "name": "stdout",
     "output_type": "stream",
     "text": [
      "[[-0.47296003 -0.30179682  0.46855913 -0.12548253 -0.30290017]\n",
      " [-0.32533231 -0.12260539 -0.12701972  0.57280898 -0.41555422]\n",
      " [-0.24153493  0.52302594  0.05201516  0.121363    0.33843994]\n",
      " [-0.43383416 -0.47718764 -0.15396278 -0.04572409  0.38642499]\n",
      " [-0.3157128   0.01028445 -0.10002909 -0.30353387 -0.12466741]\n",
      " [-0.25514537  0.24480107 -0.64974029 -0.24600503 -0.40494915]\n",
      " [-0.22902476 -0.0933213  -0.37827579 -0.06834907  0.49362588]\n",
      " [-0.03681759 -0.02183848 -0.15234637  0.69343602  0.10487492]\n",
      " [-0.25258011  0.51685358  0.12165287  0.03203981 -0.05810647]\n",
      " [-0.3762156   0.23720385  0.35304185  0.01101803  0.18475098]]\n",
      "[ 1.00000000e+00 -1.11022302e-16  1.11022302e-16  6.93889390e-18\n",
      " -9.71445147e-17]\n",
      "[-1.11022302e-16  1.00000000e+00  1.38777878e-17  2.68882139e-16\n",
      " -2.42861287e-16]\n",
      "[ 1.11022302e-16  1.38777878e-17  1.00000000e+00 -5.63785130e-18\n",
      "  6.93889390e-17]\n",
      "[ 6.93889390e-18  2.68882139e-16 -5.63785130e-18  1.00000000e+00\n",
      "  3.11382864e-16]\n",
      "[-9.71445147e-17 -2.63677968e-16  9.71445147e-17  2.83627288e-16\n",
      "  1.00000000e+00]\n"
     ]
    }
   ],
   "source": [
    "def generate_orthogonal_vectors(n, m):\n",
    "    A = np.random.rand(n, m)\n",
    "    Q, R = np.linalg.qr(A)\n",
    "    vectors = Q[:, :m]\n",
    "    return vectors\n",
    "\n",
    "n,m = 10,5\n",
    "Vs =  generate_orthogonal_vectors(n, m)\n",
    "print(Vs)\n",
    "for i in range(m):\n",
    "    # print(Vs[:,i])\n",
    "    print(np.dot(Vs[:,i],Vs))"
   ]
  },
  {
   "cell_type": "code",
   "execution_count": null,
   "metadata": {},
   "outputs": [],
   "source": []
  }
 ],
 "metadata": {
  "kernelspec": {
   "display_name": "base",
   "language": "python",
   "name": "python3"
  },
  "language_info": {
   "codemirror_mode": {
    "name": "ipython",
    "version": 3
   },
   "file_extension": ".py",
   "mimetype": "text/x-python",
   "name": "python",
   "nbconvert_exporter": "python",
   "pygments_lexer": "ipython3",
   "version": "3.9.7"
  },
  "orig_nbformat": 4
 },
 "nbformat": 4,
 "nbformat_minor": 2
}
